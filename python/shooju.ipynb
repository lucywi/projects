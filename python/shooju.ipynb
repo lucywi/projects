{
 "cells": [
  {
   "cell_type": "code",
   "execution_count": 12,
   "metadata": {
    "collapsed": true
   },
   "outputs": [],
   "source": [
    "# import packages\n",
    "\n",
    "import csv\n",
    "import pandas as pd\n",
    "from pandas import Series, DataFrame\n",
    "import numpy as np"
   ]
  },
  {
   "cell_type": "code",
   "execution_count": 13,
   "metadata": {
    "collapsed": true
   },
   "outputs": [],
   "source": [
    "# import data set\n",
    "\n",
    "shooju_df = pd.read_csv('shooju.csv')"
   ]
  },
  {
   "cell_type": "code",
   "execution_count": 14,
   "metadata": {
    "collapsed": false
   },
   "outputs": [
    {
     "data": {
      "text/html": [
       "<div style=\"max-height:1000px;max-width:1500px;overflow:auto;\">\n",
       "<table border=\"1\" class=\"dataframe\">\n",
       "  <thead>\n",
       "    <tr style=\"text-align: right;\">\n",
       "      <th></th>\n",
       "      <th>INTERVAL</th>\n",
       "      <th>CPNODE</th>\n",
       "      <th>LMP</th>\n",
       "      <th>MLC</th>\n",
       "      <th>MCC</th>\n",
       "    </tr>\n",
       "  </thead>\n",
       "  <tbody>\n",
       "    <tr>\n",
       "      <th>0</th>\n",
       "      <td>2015-11-05T00:00:00</td>\n",
       "      <td>LEPA.HOUMA_G14</td>\n",
       "      <td>19.30</td>\n",
       "      <td>0.53</td>\n",
       "      <td>-1.78</td>\n",
       "    </tr>\n",
       "    <tr>\n",
       "      <th>1</th>\n",
       "      <td>2015-11-05T00:00:00</td>\n",
       "      <td>LEPA.HOUMA_G15</td>\n",
       "      <td>19.30</td>\n",
       "      <td>0.53</td>\n",
       "      <td>-1.78</td>\n",
       "    </tr>\n",
       "    <tr>\n",
       "      <th>2</th>\n",
       "      <td>2015-11-05T00:00:00</td>\n",
       "      <td>LEPA.HOUMA_G16</td>\n",
       "      <td>19.30</td>\n",
       "      <td>0.53</td>\n",
       "      <td>-1.78</td>\n",
       "    </tr>\n",
       "    <tr>\n",
       "      <th>3</th>\n",
       "      <td>2015-11-05T00:00:00</td>\n",
       "      <td>LEPA.LEPA</td>\n",
       "      <td>19.23</td>\n",
       "      <td>0.55</td>\n",
       "      <td>-1.87</td>\n",
       "    </tr>\n",
       "    <tr>\n",
       "      <th>4</th>\n",
       "      <td>2015-11-05T00:00:00</td>\n",
       "      <td>LEPA.MGC_CTG01</td>\n",
       "      <td>19.71</td>\n",
       "      <td>1.03</td>\n",
       "      <td>-1.87</td>\n",
       "    </tr>\n",
       "  </tbody>\n",
       "</table>\n",
       "</div>"
      ],
      "text/plain": [
       "              INTERVAL          CPNODE    LMP   MLC   MCC\n",
       "0  2015-11-05T00:00:00  LEPA.HOUMA_G14  19.30  0.53 -1.78\n",
       "1  2015-11-05T00:00:00  LEPA.HOUMA_G15  19.30  0.53 -1.78\n",
       "2  2015-11-05T00:00:00  LEPA.HOUMA_G16  19.30  0.53 -1.78\n",
       "3  2015-11-05T00:00:00       LEPA.LEPA  19.23  0.55 -1.87\n",
       "4  2015-11-05T00:00:00  LEPA.MGC_CTG01  19.71  1.03 -1.87"
      ]
     },
     "execution_count": 14,
     "metadata": {},
     "output_type": "execute_result"
    }
   ],
   "source": [
    "# head of data set \n",
    "\n",
    "shooju_df.head()"
   ]
  },
  {
   "cell_type": "code",
   "execution_count": 15,
   "metadata": {
    "collapsed": false
   },
   "outputs": [
    {
     "data": {
      "text/html": [
       "<div style=\"max-height:1000px;max-width:1500px;overflow:auto;\">\n",
       "<table border=\"1\" class=\"dataframe\">\n",
       "  <thead>\n",
       "    <tr style=\"text-align: right;\">\n",
       "      <th></th>\n",
       "      <th>INTERVAL</th>\n",
       "      <th>CPNODE</th>\n",
       "      <th>LMP</th>\n",
       "      <th>MLC</th>\n",
       "      <th>MCC</th>\n",
       "    </tr>\n",
       "  </thead>\n",
       "  <tbody>\n",
       "    <tr>\n",
       "      <th>226942</th>\n",
       "      <td>2015-11-05T08:20:00</td>\n",
       "      <td>EAI.LK_CATH4</td>\n",
       "      <td>17.31</td>\n",
       "      <td>-0.85</td>\n",
       "      <td>-5.31</td>\n",
       "    </tr>\n",
       "    <tr>\n",
       "      <th>226943</th>\n",
       "      <td>2015-11-05T08:20:00</td>\n",
       "      <td>EAI.LKCTH1.ARR</td>\n",
       "      <td>17.31</td>\n",
       "      <td>-0.85</td>\n",
       "      <td>-5.31</td>\n",
       "    </tr>\n",
       "    <tr>\n",
       "      <th>226944</th>\n",
       "      <td>2015-11-05T08:20:00</td>\n",
       "      <td>EAI.LKCTH3.ARR</td>\n",
       "      <td>17.31</td>\n",
       "      <td>-0.85</td>\n",
       "      <td>-5.31</td>\n",
       "    </tr>\n",
       "    <tr>\n",
       "      <th>226945</th>\n",
       "      <td>2015-11-05T08:20:00</td>\n",
       "      <td>EAI.LYNCH2.ARR</td>\n",
       "      <td>12.22</td>\n",
       "      <td>-0.39</td>\n",
       "      <td>-10.86</td>\n",
       "    </tr>\n",
       "    <tr>\n",
       "      <th>226946</th>\n",
       "      <td>2015-11-05T08:20:00</td>\n",
       "      <td>EAI.LYNCH3.ARR</td>\n",
       "      <td>12.22</td>\n",
       "      <td>-0.39</td>\n",
       "      <td>-10.86</td>\n",
       "    </tr>\n",
       "  </tbody>\n",
       "</table>\n",
       "</div>"
      ],
      "text/plain": [
       "                   INTERVAL          CPNODE    LMP   MLC    MCC\n",
       "226942  2015-11-05T08:20:00    EAI.LK_CATH4  17.31 -0.85  -5.31\n",
       "226943  2015-11-05T08:20:00  EAI.LKCTH1.ARR  17.31 -0.85  -5.31\n",
       "226944  2015-11-05T08:20:00  EAI.LKCTH3.ARR  17.31 -0.85  -5.31\n",
       "226945  2015-11-05T08:20:00  EAI.LYNCH2.ARR  12.22 -0.39 -10.86\n",
       "226946  2015-11-05T08:20:00  EAI.LYNCH3.ARR  12.22 -0.39 -10.86"
      ]
     },
     "execution_count": 15,
     "metadata": {},
     "output_type": "execute_result"
    }
   ],
   "source": [
    "# tail of data set\n",
    "\n",
    "shooju_df.tail()"
   ]
  },
  {
   "cell_type": "code",
   "execution_count": 21,
   "metadata": {
    "collapsed": false
   },
   "outputs": [
    {
     "data": {
      "text/plain": [
       "array(['2015-11-05T00:00:00', '2015-11-05T00:05:00', '2015-11-05T00:10:00',\n",
       "       '2015-11-05T00:15:00', '2015-11-05T00:20:00', '2015-11-05T00:25:00',\n",
       "       '2015-11-05T00:30:00', '2015-11-05T00:35:00', '2015-11-05T00:40:00',\n",
       "       '2015-11-05T00:45:00', '2015-11-05T00:50:00', '2015-11-05T00:55:00',\n",
       "       '2015-11-05T01:00:00', '2015-11-05T01:05:00', '2015-11-05T01:10:00',\n",
       "       '2015-11-05T01:15:00', '2015-11-05T01:20:00', '2015-11-05T01:25:00',\n",
       "       '2015-11-05T01:30:00', '2015-11-05T01:35:00', '2015-11-05T01:40:00',\n",
       "       '2015-11-05T01:45:00', '2015-11-05T01:50:00', '2015-11-05T01:55:00',\n",
       "       '2015-11-05T02:00:00', '2015-11-05T02:05:00', '2015-11-05T02:10:00',\n",
       "       '2015-11-05T02:15:00', '2015-11-05T02:20:00', '2015-11-05T02:25:00',\n",
       "       '2015-11-05T02:30:00', '2015-11-05T02:35:00', '2015-11-05T02:40:00',\n",
       "       '2015-11-05T02:45:00', '2015-11-05T02:50:00', '2015-11-05T02:55:00',\n",
       "       '2015-11-05T03:00:00', '2015-11-05T03:05:00', '2015-11-05T03:10:00',\n",
       "       '2015-11-05T03:15:00', '2015-11-05T03:20:00', '2015-11-05T03:25:00',\n",
       "       '2015-11-05T03:30:00', '2015-11-05T03:35:00', '2015-11-05T03:40:00',\n",
       "       '2015-11-05T03:45:00', '2015-11-05T03:50:00', '2015-11-05T03:55:00',\n",
       "       '2015-11-05T04:00:00', '2015-11-05T04:05:00', '2015-11-05T04:10:00',\n",
       "       '2015-11-05T04:15:00', '2015-11-05T04:20:00', '2015-11-05T04:25:00',\n",
       "       '2015-11-05T04:30:00', '2015-11-05T04:35:00', '2015-11-05T04:40:00',\n",
       "       '2015-11-05T04:45:00', '2015-11-05T04:50:00', '2015-11-05T04:55:00',\n",
       "       '2015-11-05T05:00:00', '2015-11-05T05:05:00', '2015-11-05T05:10:00',\n",
       "       '2015-11-05T05:15:00', '2015-11-05T05:20:00', '2015-11-05T05:25:00',\n",
       "       '2015-11-05T05:30:00', '2015-11-05T05:35:00', '2015-11-05T05:40:00',\n",
       "       '2015-11-05T05:45:00', '2015-11-05T05:50:00', '2015-11-05T05:55:00',\n",
       "       '2015-11-05T06:00:00', '2015-11-05T06:05:00', '2015-11-05T06:10:00',\n",
       "       '2015-11-05T06:15:00', '2015-11-05T06:20:00', '2015-11-05T06:25:00',\n",
       "       '2015-11-05T06:30:00', '2015-11-05T06:35:00', '2015-11-05T06:40:00',\n",
       "       '2015-11-05T06:45:00', '2015-11-05T06:50:00', '2015-11-05T06:55:00',\n",
       "       '2015-11-05T07:00:00', '2015-11-05T07:05:00', '2015-11-05T07:10:00',\n",
       "       '2015-11-05T07:15:00', '2015-11-05T07:20:00', '2015-11-05T07:25:00',\n",
       "       '2015-11-05T07:30:00', '2015-11-05T07:35:00', '2015-11-05T07:40:00',\n",
       "       '2015-11-05T07:45:00', '2015-11-05T07:50:00', '2015-11-05T07:55:00',\n",
       "       '2015-11-05T08:00:00', '2015-11-05T08:05:00', '2015-11-05T08:10:00',\n",
       "       '2015-11-05T08:15:00', '2015-11-05T08:20:00'], dtype=object)"
      ]
     },
     "execution_count": 21,
     "metadata": {},
     "output_type": "execute_result"
    }
   ],
   "source": [
    "# find all the unique values in 'interval' column\n",
    "\n",
    "unique_series = Series.unique(shooju_df.INTERVAL)\n",
    "unique_series"
   ]
  },
  {
   "cell_type": "code",
   "execution_count": 23,
   "metadata": {
    "collapsed": false
   },
   "outputs": [
    {
     "data": {
      "text/plain": [
       "101"
      ]
     },
     "execution_count": 23,
     "metadata": {},
     "output_type": "execute_result"
    }
   ],
   "source": [
    "# number of unique values in 'interval' column = 101\n",
    "\n",
    "len(unique_series)"
   ]
  }
 ],
 "metadata": {
  "kernelspec": {
   "display_name": "Python 2",
   "language": "python",
   "name": "python2"
  },
  "language_info": {
   "codemirror_mode": {
    "name": "ipython",
    "version": 2
   },
   "file_extension": ".py",
   "mimetype": "text/x-python",
   "name": "python",
   "nbconvert_exporter": "python",
   "pygments_lexer": "ipython2",
   "version": "2.7.10"
  }
 },
 "nbformat": 4,
 "nbformat_minor": 0
}
